{
 "cells": [
  {
   "cell_type": "code",
   "execution_count": 3,
   "id": "f8b2e813",
   "metadata": {
    "id": "f8b2e813"
   },
   "outputs": [],
   "source": [
    "import tensorflow_datasets as tfds\n",
    "import tensorflow as tf\n",
    "from tensorflow.keras.utils import to_categorical"
   ]
  },
  {
   "cell_type": "markdown",
   "id": "c8f3f3ae",
   "metadata": {
    "id": "c8f3f3ae"
   },
   "source": [
    "Load Data"
   ]
  },
  {
   "cell_type": "code",
   "execution_count": 4,
   "id": "2957bef4",
   "metadata": {
    "colab": {
     "base_uri": "https://localhost:8080/",
     "height": 84,
     "referenced_widgets": [
      "456a753ec4ef4c7aa46a7c76ba9bdb83",
      "fe2a15f2f48945daa3f55bdf3e52b71e",
      "85c9c30bfb9a4bf6bc36e82b35ff1df6",
      "6d029df22fe749238b28d026b63d9293",
      "29e292b634054f108d3675a21f4db605",
      "64304eff5191444e81adab5a21095e05",
      "df634f50e99e40acb28fb54e538b902a",
      "90bef2e506f94b32bc48d91c81c389e6",
      "6e3716d260194e5b9156745eb3163f4b",
      "169b0e955fcb4331b5deba88dd067c50",
      "f1ab9eee3b4f46ffbd72e1cecab98982"
     ]
    },
    "id": "2957bef4",
    "outputId": "324307dd-b946-4cbf-9266-c79a5ecdb56f"
   },
   "outputs": [
    {
     "name": "stdout",
     "output_type": "stream",
     "text": [
      "Downloading and preparing dataset 218.21 MiB (download: 218.21 MiB, generated: 221.83 MiB, total: 440.05 MiB) to /root/tensorflow_datasets/tf_flowers/3.0.1...\n"
     ]
    },
    {
     "data": {
      "application/vnd.jupyter.widget-view+json": {
       "model_id": "456a753ec4ef4c7aa46a7c76ba9bdb83",
       "version_major": 2,
       "version_minor": 0
      },
      "text/plain": [
       "Dl Completed...:   0%|          | 0/5 [00:00<?, ? file/s]"
      ]
     },
     "metadata": {},
     "output_type": "display_data"
    },
    {
     "name": "stdout",
     "output_type": "stream",
     "text": [
      "Dataset tf_flowers downloaded and prepared to /root/tensorflow_datasets/tf_flowers/3.0.1. Subsequent calls will reuse this data.\n"
     ]
    }
   ],
   "source": [
    "(train_ds,train_labels),(test_ds,test_labels)=tfds.load(\"tf_flowers\",split=[\"train[:70%]\",\"train[:30%]\"],\n",
    "                                                       batch_size=-1,\n",
    "                                                       as_supervised=True,\n",
    "                                                       )"
   ]
  },
  {
   "cell_type": "markdown",
   "id": "312886c8",
   "metadata": {
    "id": "312886c8"
   },
   "source": [
    "Image Preprocessing"
   ]
  },
  {
   "cell_type": "code",
   "execution_count": 5,
   "id": "f5356559",
   "metadata": {
    "colab": {
     "base_uri": "https://localhost:8080/"
    },
    "id": "f5356559",
    "outputId": "e35fff59-3b23-4345-8483-3b969023753e"
   },
   "outputs": [
    {
     "data": {
      "text/plain": [
       "TensorShape([442, 1024, 3])"
      ]
     },
     "execution_count": 5,
     "metadata": {},
     "output_type": "execute_result"
    }
   ],
   "source": [
    "train_ds[0].shape"
   ]
  },
  {
   "cell_type": "code",
   "execution_count": 6,
   "id": "72a3fe14",
   "metadata": {
    "id": "72a3fe14"
   },
   "outputs": [],
   "source": [
    "train_ds=tf.image.resize(train_ds,(150,150))\n",
    "test_ds=tf.image.resize(test_ds,(150,150))"
   ]
  },
  {
   "cell_type": "code",
   "execution_count": 7,
   "id": "832f30ff",
   "metadata": {
    "colab": {
     "base_uri": "https://localhost:8080/"
    },
    "id": "832f30ff",
    "outputId": "54a0f605-ab32-441e-a03b-7697a87dba84"
   },
   "outputs": [
    {
     "data": {
      "text/plain": [
       "<tf.Tensor: shape=(2569,), dtype=int64, numpy=array([2, 3, 3, ..., 0, 2, 0])>"
      ]
     },
     "execution_count": 7,
     "metadata": {},
     "output_type": "execute_result"
    }
   ],
   "source": [
    "train_labels"
   ]
  },
  {
   "cell_type": "code",
   "execution_count": 8,
   "id": "656574ca",
   "metadata": {
    "id": "656574ca"
   },
   "outputs": [],
   "source": [
    "train_labels=to_categorical(train_labels,num_classes=5)\n",
    "test_labels=to_categorical(test_labels,num_classes=5)"
   ]
  },
  {
   "cell_type": "code",
   "execution_count": 9,
   "id": "1d0e1222",
   "metadata": {
    "colab": {
     "base_uri": "https://localhost:8080/"
    },
    "id": "1d0e1222",
    "outputId": "17fc9804-4041-4f6d-acdb-ee5f3ad6df54"
   },
   "outputs": [
    {
     "data": {
      "text/plain": [
       "array([0., 0., 1., 0., 0.], dtype=float32)"
      ]
     },
     "execution_count": 9,
     "metadata": {},
     "output_type": "execute_result"
    }
   ],
   "source": [
    "train_labels[0]"
   ]
  },
  {
   "cell_type": "markdown",
   "id": "efe6dd70",
   "metadata": {
    "id": "efe6dd70"
   },
   "source": [
    "Use pretrained VGG16 Image Classification Model"
   ]
  },
  {
   "cell_type": "code",
   "execution_count": 10,
   "id": "36f00d26",
   "metadata": {
    "id": "36f00d26"
   },
   "outputs": [],
   "source": [
    "from tensorflow.keras.applications.vgg16 import VGG16\n",
    "from tensorflow.keras.applications.vgg16 import preprocess_input"
   ]
  },
  {
   "cell_type": "code",
   "execution_count": 11,
   "id": "929f075c",
   "metadata": {
    "colab": {
     "base_uri": "https://localhost:8080/"
    },
    "id": "929f075c",
    "outputId": "4f74a370-5b53-42f4-83a3-a1df02757f62"
   },
   "outputs": [
    {
     "data": {
      "text/plain": [
       "TensorShape([150, 150, 3])"
      ]
     },
     "execution_count": 11,
     "metadata": {},
     "output_type": "execute_result"
    }
   ],
   "source": [
    "train_ds[0].shape"
   ]
  },
  {
   "cell_type": "code",
   "execution_count": 12,
   "id": "4a6b184a",
   "metadata": {
    "colab": {
     "base_uri": "https://localhost:8080/"
    },
    "id": "4a6b184a",
    "outputId": "5b65c80b-369f-4919-e450-d4c9bddeb059"
   },
   "outputs": [
    {
     "name": "stdout",
     "output_type": "stream",
     "text": [
      "Downloading data from https://storage.googleapis.com/tensorflow/keras-applications/vgg16/vgg16_weights_tf_dim_ordering_tf_kernels_notop.h5\n",
      "58889256/58889256 [==============================] - 0s 0us/step\n"
     ]
    }
   ],
   "source": [
    "base_model=VGG16(weights=\"imagenet\",include_top=False,input_shape=train_ds[0].shape)"
   ]
  },
  {
   "cell_type": "code",
   "execution_count": 13,
   "id": "90ccac65",
   "metadata": {
    "id": "90ccac65"
   },
   "outputs": [],
   "source": [
    "base_model.trainable=False"
   ]
  },
  {
   "cell_type": "code",
   "execution_count": 14,
   "id": "49010afa",
   "metadata": {
    "id": "49010afa"
   },
   "outputs": [],
   "source": [
    "train_ds=preprocess_input(train_ds)\n",
    "test_ds=preprocess_input(test_ds)"
   ]
  },
  {
   "cell_type": "code",
   "execution_count": 15,
   "id": "5e2a8f16",
   "metadata": {
    "colab": {
     "base_uri": "https://localhost:8080/"
    },
    "id": "5e2a8f16",
    "outputId": "35ff30a5-ef21-4816-9c68-89a8bac207dc"
   },
   "outputs": [
    {
     "name": "stdout",
     "output_type": "stream",
     "text": [
      "Model: \"vgg16\"\n",
      "_________________________________________________________________\n",
      " Layer (type)                Output Shape              Param #   \n",
      "=================================================================\n",
      " input_1 (InputLayer)        [(None, 150, 150, 3)]     0         \n",
      "                                                                 \n",
      " block1_conv1 (Conv2D)       (None, 150, 150, 64)      1792      \n",
      "                                                                 \n",
      " block1_conv2 (Conv2D)       (None, 150, 150, 64)      36928     \n",
      "                                                                 \n",
      " block1_pool (MaxPooling2D)  (None, 75, 75, 64)        0         \n",
      "                                                                 \n",
      " block2_conv1 (Conv2D)       (None, 75, 75, 128)       73856     \n",
      "                                                                 \n",
      " block2_conv2 (Conv2D)       (None, 75, 75, 128)       147584    \n",
      "                                                                 \n",
      " block2_pool (MaxPooling2D)  (None, 37, 37, 128)       0         \n",
      "                                                                 \n",
      " block3_conv1 (Conv2D)       (None, 37, 37, 256)       295168    \n",
      "                                                                 \n",
      " block3_conv2 (Conv2D)       (None, 37, 37, 256)       590080    \n",
      "                                                                 \n",
      " block3_conv3 (Conv2D)       (None, 37, 37, 256)       590080    \n",
      "                                                                 \n",
      " block3_pool (MaxPooling2D)  (None, 18, 18, 256)       0         \n",
      "                                                                 \n",
      " block4_conv1 (Conv2D)       (None, 18, 18, 512)       1180160   \n",
      "                                                                 \n",
      " block4_conv2 (Conv2D)       (None, 18, 18, 512)       2359808   \n",
      "                                                                 \n",
      " block4_conv3 (Conv2D)       (None, 18, 18, 512)       2359808   \n",
      "                                                                 \n",
      " block4_pool (MaxPooling2D)  (None, 9, 9, 512)         0         \n",
      "                                                                 \n",
      " block5_conv1 (Conv2D)       (None, 9, 9, 512)         2359808   \n",
      "                                                                 \n",
      " block5_conv2 (Conv2D)       (None, 9, 9, 512)         2359808   \n",
      "                                                                 \n",
      " block5_conv3 (Conv2D)       (None, 9, 9, 512)         2359808   \n",
      "                                                                 \n",
      " block5_pool (MaxPooling2D)  (None, 4, 4, 512)         0         \n",
      "                                                                 \n",
      "=================================================================\n",
      "Total params: 14714688 (56.13 MB)\n",
      "Trainable params: 0 (0.00 Byte)\n",
      "Non-trainable params: 14714688 (56.13 MB)\n",
      "_________________________________________________________________\n"
     ]
    }
   ],
   "source": [
    "base_model.summary()"
   ]
  },
  {
   "cell_type": "code",
   "execution_count": 16,
   "id": "38fc2a65",
   "metadata": {
    "id": "38fc2a65"
   },
   "outputs": [],
   "source": [
    "from tensorflow.keras import layers,models\n",
    "\n",
    "flatten_layer=layers.Flatten()\n",
    "dense_layer_1=layers.Dense(50,activation='relu')\n",
    "dense_layer_2=layers.Dense(20,activation='relu')\n",
    "prediction_layer=layers.Dense(5,activation='softmax')\n",
    "\n",
    "model=models.Sequential([\n",
    "    base_model,\n",
    "    flatten_layer,\n",
    "    dense_layer_1,\n",
    "    dense_layer_2,\n",
    "    prediction_layer\n",
    "])"
   ]
  },
  {
   "cell_type": "markdown",
   "id": "825e4ccf",
   "metadata": {
    "id": "825e4ccf"
   },
   "source": [
    "Train classifier layers on training data available for task"
   ]
  },
  {
   "cell_type": "code",
   "execution_count": 17,
   "id": "43d20bc9",
   "metadata": {
    "id": "43d20bc9"
   },
   "outputs": [],
   "source": [
    "from tensorflow.keras.callbacks import EarlyStopping\n",
    "\n",
    "model.compile(\n",
    "    optimizer='adam',\n",
    "    loss='categorical_crossentropy',\n",
    "    metrics=['accuracy'],\n",
    ")"
   ]
  },
  {
   "cell_type": "code",
   "execution_count": 20,
   "id": "s3fkUBM74whv",
   "metadata": {
    "id": "s3fkUBM74whv"
   },
   "outputs": [],
   "source": [
    "es=EarlyStopping(monitor='val_accuracy',mode='max',patience=5,restore_best_weights=True)"
   ]
  },
  {
   "cell_type": "code",
   "execution_count": 21,
   "id": "wYvtWWXT4-om",
   "metadata": {
    "colab": {
     "base_uri": "https://localhost:8080/"
    },
    "id": "wYvtWWXT4-om",
    "outputId": "9b085d26-8e57-481e-a85d-8371cdcaad8b"
   },
   "outputs": [
    {
     "name": "stdout",
     "output_type": "stream",
     "text": [
      "Epoch 1/10\n",
      "65/65 [==============================] - 643s 10s/step - loss: 0.6158 - accuracy: 0.7635 - val_loss: 1.0595 - val_accuracy: 0.6479\n",
      "Epoch 2/10\n",
      "65/65 [==============================] - 627s 10s/step - loss: 0.4134 - accuracy: 0.8438 - val_loss: 1.1003 - val_accuracy: 0.6712\n",
      "Epoch 3/10\n",
      "65/65 [==============================] - 627s 10s/step - loss: 0.3064 - accuracy: 0.8847 - val_loss: 1.2513 - val_accuracy: 0.6926\n",
      "Epoch 4/10\n",
      "65/65 [==============================] - 629s 10s/step - loss: 0.2131 - accuracy: 0.9236 - val_loss: 1.1806 - val_accuracy: 0.6848\n",
      "Epoch 5/10\n",
      "65/65 [==============================] - 626s 10s/step - loss: 0.1398 - accuracy: 0.9513 - val_loss: 1.3685 - val_accuracy: 0.6965\n",
      "Epoch 6/10\n",
      "65/65 [==============================] - 626s 10s/step - loss: 0.1058 - accuracy: 0.9635 - val_loss: 1.2703 - val_accuracy: 0.6907\n",
      "Epoch 7/10\n",
      "65/65 [==============================] - 634s 10s/step - loss: 0.0797 - accuracy: 0.9747 - val_loss: 1.4358 - val_accuracy: 0.7023\n",
      "Epoch 8/10\n",
      "65/65 [==============================] - 627s 10s/step - loss: 0.0564 - accuracy: 0.9800 - val_loss: 1.3238 - val_accuracy: 0.7062\n",
      "Epoch 9/10\n",
      "65/65 [==============================] - 611s 9s/step - loss: 0.0457 - accuracy: 0.9878 - val_loss: 1.5303 - val_accuracy: 0.6829\n",
      "Epoch 10/10\n",
      "65/65 [==============================] - 610s 9s/step - loss: 0.0403 - accuracy: 0.9878 - val_loss: 1.4683 - val_accuracy: 0.7043\n"
     ]
    }
   ],
   "source": [
    "history=model.fit(train_ds,train_labels,epochs=10,validation_split=0.2,batch_size=32,callbacks=[es])"
   ]
  },
  {
   "cell_type": "code",
   "execution_count": 22,
   "id": "8ee8e305",
   "metadata": {
    "colab": {
     "base_uri": "https://localhost:8080/"
    },
    "id": "8ee8e305",
    "outputId": "96642f26-4854-4aef-9151-bab3006b7d07"
   },
   "outputs": [
    {
     "name": "stdout",
     "output_type": "stream",
     "text": [
      "35/35 [==============================] - 288s 8s/step - loss: 0.0371 - accuracy: 0.9927\n",
      "Loss:  0.03712259978055954 Accuracy:  0.992733895778656\n"
     ]
    }
   ],
   "source": [
    "los,accurac=model.evaluate(test_ds,test_labels)\n",
    "print(\"Loss: \",los,\"Accuracy: \",accurac)"
   ]
  },
  {
   "cell_type": "code",
   "execution_count": 23,
   "id": "68adf3c1",
   "metadata": {
    "colab": {
     "base_uri": "https://localhost:8080/",
     "height": 472
    },
    "id": "68adf3c1",
    "outputId": "71e0b729-250d-4ba2-8df2-b430e859ee25"
   },
   "outputs": [
    {
     "data": {
      "image/png": "[encoded data removed]",
      "text/plain": [
       "<Figure size 640x480 with 1 Axes>"
      ]
     },
     "metadata": {},
     "output_type": "display_data"
    }
   ],
   "source": [
    "import matplotlib.pyplot as plt\n",
    "plt.plot(history.history['accuracy'])\n",
    "plt.title('ACCURACY')\n",
    "plt.ylabel('accuracy')\n",
    "plt.xlabel('epoch')\n",
    "plt.legend(['train'],loc='upper left')\n",
    "plt.show()"
   ]
  },
  {
   "cell_type": "code",
   "execution_count": 24,
   "id": "4529b43f",
   "metadata": {
    "colab": {
     "base_uri": "https://localhost:8080/"
    },
    "id": "4529b43f",
    "outputId": "5bc1a85a-e745-494b-8ec8-81a2f346f82c"
   },
   "outputs": [
    {
     "name": "stdout",
     "output_type": "stream",
     "text": [
      "35/35 [==============================] - 287s 8s/step\n",
      "[2, 3, 3, 4, 3, 0, 0, 0, 0, 1]\n",
      "\n",
      "Test\n",
      "[[0. 0. 1. 0. 0.]\n",
      " [0. 0. 0. 1. 0.]\n",
      " [0. 0. 0. 1. 0.]\n",
      " [0. 0. 0. 0. 1.]\n",
      " [0. 0. 0. 1. 0.]\n",
      " [1. 0. 0. 0. 0.]\n",
      " [1. 0. 0. 0. 0.]\n",
      " [1. 0. 0. 0. 0.]\n",
      " [1. 0. 0. 0. 0.]\n",
      " [0. 1. 0. 0. 0.]]\n"
     ]
    }
   ],
   "source": [
    "import numpy as np\n",
    "import pandas as pd\n",
    "y_pred=model.predict(test_ds)\n",
    "y_classes=[np.argmax(element) for element in y_pred]\n",
    "print(y_classes[:10])\n",
    "print(\"\\nTest\")\n",
    "print(test_labels[:10])"
   ]
  },
  {
   "cell_type": "code",
   "execution_count": null,
   "id": "867f398e",
   "metadata": {
    "id": "867f398e"
   },
   "outputs": [],
   "source": []
  }
 ],
 "metadata": {
  "colab": {
   "provenance": []
  },
  "kernelspec": {
   "display_name": "Python 3 (ipykernel)",
   "language": "python",
   "name": "python3"
  },
  "language_info": {
   "codemirror_mode": {
    "name": "ipython",
    "version": 3
   },
   "file_extension": ".py",
   "mimetype": "text/x-python",
   "name": "python",
   "nbconvert_exporter": "python",
   "pygments_lexer": "ipython3",
   "version": "3.11.1"
  },
  "widgets": {
   "application/vnd.jupyter.widget-state+json": {
    "169b0e955fcb4331b5deba88dd067c50": {
     "model_module": "@jupyter-widgets/base",
     "model_module_version": "1.2.0",
     "model_name": "LayoutModel",
     "state": {
      "_model_module": "@jupyter-widgets/base",
      "_model_module_version": "1.2.0",
      "_model_name": "LayoutModel",
      "_view_count": null,
      "_view_module": "@jupyter-widgets/base",
      "_view_module_version": "1.2.0",
      "_view_name": "LayoutView",
      "align_content": null,
      "align_items": null,
      "align_self": null,
      "border": null,
      "bottom": null,
      "display": null,
      "flex": null,
      "flex_flow": null,
      "grid_area": null,
      "grid_auto_columns": null,
      "grid_auto_flow": null,
      "grid_auto_rows": null,
      "grid_column": null,
      "grid_gap": null,
      "grid_row": null,
      "grid_template_areas": null,
      "grid_template_columns": null,
      "grid_template_rows": null,
      "height": null,
      "justify_content": null,
      "justify_items": null,
      "left": null,
      "margin": null,
      "max_height": null,
      "max_width": null,
      "min_height": null,
      "min_width": null,
      "object_fit": null,
      "object_position": null,
      "order": null,
      "overflow": null,
      "overflow_x": null,
      "overflow_y": null,
      "padding": null,
      "right": null,
      "top": null,
      "visibility": null,
      "width": null
     }
    },
    "29e292b634054f108d3675a21f4db605": {
     "model_module": "@jupyter-widgets/base",
     "model_module_version": "1.2.0",
     "model_name": "LayoutModel",
     "state": {
      "_model_module": "@jupyter-widgets/base",
      "_model_module_version": "1.2.0",
      "_model_name": "LayoutModel",
      "_view_count": null,
      "_view_module": "@jupyter-widgets/base",
      "_view_module_version": "1.2.0",
      "_view_name": "LayoutView",
      "align_content": null,
      "align_items": null,
      "align_self": null,
      "border": null,
      "bottom": null,
      "display": null,
      "flex": null,
      "flex_flow": null,
      "grid_area": null,
      "grid_auto_columns": null,
      "grid_auto_flow": null,
      "grid_auto_rows": null,
      "grid_column": null,
      "grid_gap": null,
      "grid_row": null,
      "grid_template_areas": null,
      "grid_template_columns": null,
      "grid_template_rows": null,
      "height": null,
      "justify_content": null,
      "justify_items": null,
      "left": null,
      "margin": null,
      "max_height": null,
      "max_width": null,
      "min_height": null,
      "min_width": null,
      "object_fit": null,
      "object_position": null,
      "order": null,
      "overflow": null,
      "overflow_x": null,
      "overflow_y": null,
      "padding": null,
      "right": null,
      "top": null,
      "visibility": null,
      "width": null
     }
    },
    "456a753ec4ef4c7aa46a7c76ba9bdb83": {
     "model_module": "@jupyter-widgets/controls",
     "model_module_version": "1.5.0",
     "model_name": "HBoxModel",
     "state": {
      "_dom_classes": [],
      "_model_module": "@jupyter-widgets/controls",
      "_model_module_version": "1.5.0",
      "_model_name": "HBoxModel",
      "_view_count": null,
      "_view_module": "@jupyter-widgets/controls",
      "_view_module_version": "1.5.0",
      "_view_name": "HBoxView",
      "box_style": "",
      "children": [
       "IPY_MODEL_fe2a15f2f48945daa3f55bdf3e52b71e",
       "IPY_MODEL_85c9c30bfb9a4bf6bc36e82b35ff1df6",
       "IPY_MODEL_6d029df22fe749238b28d026b63d9293"
      ],
      "layout": "IPY_MODEL_29e292b634054f108d3675a21f4db605"
     }
    },
    "64304eff5191444e81adab5a21095e05": {
     "model_module": "@jupyter-widgets/base",
     "model_module_version": "1.2.0",
     "model_name": "LayoutModel",
     "state": {
      "_model_module": "@jupyter-widgets/base",
      "_model_module_version": "1.2.0",
      "_model_name": "LayoutModel",
      "_view_count": null,
      "_view_module": "@jupyter-widgets/base",
      "_view_module_version": "1.2.0",
      "_view_name": "LayoutView",
      "align_content": null,
      "align_items": null,
      "align_self": null,
      "border": null,
      "bottom": null,
      "display": null,
      "flex": null,
      "flex_flow": null,
      "grid_area": null,
      "grid_auto_columns": null,
      "grid_auto_flow": null,
      "grid_auto_rows": null,
      "grid_column": null,
      "grid_gap": null,
      "grid_row": null,
      "grid_template_areas": null,
      "grid_template_columns": null,
      "grid_template_rows": null,
      "height": null,
      "justify_content": null,
      "justify_items": null,
      "left": null,
      "margin": null,
      "max_height": null,
      "max_width": null,
      "min_height": null,
      "min_width": null,
      "object_fit": null,
      "object_position": null,
      "order": null,
      "overflow": null,
      "overflow_x": null,
      "overflow_y": null,
      "padding": null,
      "right": null,
      "top": null,
      "visibility": null,
      "width": null
     }
    },
    "6d029df22fe749238b28d026b63d9293": {
     "model_module": "@jupyter-widgets/controls",
     "model_module_version": "1.5.0",
     "model_name": "HTMLModel",
     "state": {
      "_dom_classes": [],
      "_model_module": "@jupyter-widgets/controls",
      "_model_module_version": "1.5.0",
      "_model_name": "HTMLModel",
      "_view_count": null,
      "_view_module": "@jupyter-widgets/controls",
      "_view_module_version": "1.5.0",
      "_view_name": "HTMLView",
      "description": "",
      "description_tooltip": null,
      "layout": "IPY_MODEL_169b0e955fcb4331b5deba88dd067c50",
      "placeholder": "​",
      "style": "IPY_MODEL_f1ab9eee3b4f46ffbd72e1cecab98982",
      "value": " 5/5 [00:02&lt;00:00,  1.71 file/s]"
     }
    },
    "6e3716d260194e5b9156745eb3163f4b": {
     "model_module": "@jupyter-widgets/controls",
     "model_module_version": "1.5.0",
     "model_name": "ProgressStyleModel",
     "state": {
      "_model_module": "@jupyter-widgets/controls",
      "_model_module_version": "1.5.0",
      "_model_name": "ProgressStyleModel",
      "_view_count": null,
      "_view_module": "@jupyter-widgets/base",
      "_view_module_version": "1.2.0",
      "_view_name": "StyleView",
      "bar_color": null,
      "description_width": ""
     }
    },
    "85c9c30bfb9a4bf6bc36e82b35ff1df6": {
     "model_module": "@jupyter-widgets/controls",
     "model_module_version": "1.5.0",
     "model_name": "FloatProgressModel",
     "state": {
      "_dom_classes": [],
      "_model_module": "@jupyter-widgets/controls",
      "_model_module_version": "1.5.0",
      "_model_name": "FloatProgressModel",
      "_view_count": null,
      "_view_module": "@jupyter-widgets/controls",
      "_view_module_version": "1.5.0",
      "_view_name": "ProgressView",
      "bar_style": "success",
      "description": "",
      "description_tooltip": null,
      "layout": "IPY_MODEL_90bef2e506f94b32bc48d91c81c389e6",
      "max": 5,
      "min": 0,
      "orientation": "horizontal",
      "style": "IPY_MODEL_6e3716d260194e5b9156745eb3163f4b",
      "value": 5
     }
    },
    "90bef2e506f94b32bc48d91c81c389e6": {
     "model_module": "@jupyter-widgets/base",
     "model_module_version": "1.2.0",
     "model_name": "LayoutModel",
     "state": {
      "_model_module": "@jupyter-widgets/base",
      "_model_module_version": "1.2.0",
      "_model_name": "LayoutModel",
      "_view_count": null,
      "_view_module": "@jupyter-widgets/base",
      "_view_module_version": "1.2.0",
      "_view_name": "LayoutView",
      "align_content": null,
      "align_items": null,
      "align_self": null,
      "border": null,
      "bottom": null,
      "display": null,
      "flex": null,
      "flex_flow": null,
      "grid_area": null,
      "grid_auto_columns": null,
      "grid_auto_flow": null,
      "grid_auto_rows": null,
      "grid_column": null,
      "grid_gap": null,
      "grid_row": null,
      "grid_template_areas": null,
      "grid_template_columns": null,
      "grid_template_rows": null,
      "height": null,
      "justify_content": null,
      "justify_items": null,
      "left": null,
      "margin": null,
      "max_height": null,
      "max_width": null,
      "min_height": null,
      "min_width": null,
      "object_fit": null,
      "object_position": null,
      "order": null,
      "overflow": null,
      "overflow_x": null,
      "overflow_y": null,
      "padding": null,
      "right": null,
      "top": null,
      "visibility": null,
      "width": null
     }
    },
    "df634f50e99e40acb28fb54e538b902a": {
     "model_module": "@jupyter-widgets/controls",
     "model_module_version": "1.5.0",
     "model_name": "DescriptionStyleModel",
     "state": {
      "_model_module": "@jupyter-widgets/controls",
      "_model_module_version": "1.5.0",
      "_model_name": "DescriptionStyleModel",
      "_view_count": null,
      "_view_module": "@jupyter-widgets/base",
      "_view_module_version": "1.2.0",
      "_view_name": "StyleView",
      "description_width": ""
     }
    },
    "f1ab9eee3b4f46ffbd72e1cecab98982": {
     "model_module": "@jupyter-widgets/controls",
     "model_module_version": "1.5.0",
     "model_name": "DescriptionStyleModel",
     "state": {
      "_model_module": "@jupyter-widgets/controls",
      "_model_module_version": "1.5.0",
      "_model_name": "DescriptionStyleModel",
      "_view_count": null,
      "_view_module": "@jupyter-widgets/base",
      "_view_module_version": "1.2.0",
      "_view_name": "StyleView",
      "description_width": ""
     }
    },
    "fe2a15f2f48945daa3f55bdf3e52b71e": {
     "model_module": "@jupyter-widgets/controls",
     "model_module_version": "1.5.0",
     "model_name": "HTMLModel",
     "state": {
      "_dom_classes": [],
      "_model_module": "@jupyter-widgets/controls",
      "_model_module_version": "1.5.0",
      "_model_name": "HTMLModel",
      "_view_count": null,
      "_view_module": "@jupyter-widgets/controls",
      "_view_module_version": "1.5.0",
      "_view_name": "HTMLView",
      "description": "",
      "description_tooltip": null,
      "layout": "IPY_MODEL_64304eff5191444e81adab5a21095e05",
      "placeholder": "​",
      "style": "IPY_MODEL_df634f50e99e40acb28fb54e538b902a",
      "value": "Dl Completed...: 100%"
     }
    }
   }
  }
 },
 "nbformat": 4,
 "nbformat_minor": 5
}
