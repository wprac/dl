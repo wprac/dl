{
 "cells": [
  {
   "cell_type": "code",
   "execution_count": 1,
   "metadata": {
    "id": "dXcLkyM1bTY8"
   },
   "outputs": [],
   "source": [
    "import matplotlib.pyplot as plt\n",
    "import seaborn as sns\n",
    "import matplotlib as mpl\n",
    "import matplotlib.pylab as pylab\n",
    "import numpy as np\n",
    "%matplotlib inline"
   ]
  },
  {
   "cell_type": "code",
   "execution_count": 2,
   "metadata": {
    "id": "DDsVuN5VbTZA"
   },
   "outputs": [],
   "source": [
    "import re  #regular expression"
   ]
  },
  {
   "cell_type": "code",
   "execution_count": 3,
   "metadata": {
    "id": "XHmfWouLbTZA"
   },
   "outputs": [],
   "source": [
    "sentences = \"\"\"Throughout my career, I have had the opportunity to work on a diverse range of mobile app projects. My proficiency in Flutter, along with my Android development skills, has allowed me to create user-friendly and high-performance applications. I take pride in my ability to transform creative concepts into functional, feature-rich apps that deliver exceptional user experiences.\"\"\""
   ]
  },
  {
   "cell_type": "markdown",
   "metadata": {
    "id": "QdmP4i71bTZB"
   },
   "source": [
    "Clean Data"
   ]
  },
  {
   "cell_type": "code",
   "execution_count": 4,
   "metadata": {
    "id": "BrWgAUrdbTZC"
   },
   "outputs": [],
   "source": [
    "# remove special characters\n",
    "sentences = re.sub('[^A-Za-z0-9]+', ' ', sentences) #replace space with non alphanumeric character\n",
    "\n",
    "# remove 1 letter words\n",
    "sentences = re.sub(r'(?:^| )\\w(?:$| )', ' ', sentences).strip() #strip() method removes any leading/trailing spaces resulting from this operation.\n",
    "\n",
    "# lower all characters\n",
    "sentences = sentences.lower()"
   ]
  },
  {
   "cell_type": "markdown",
   "metadata": {
    "id": "MdGdE72abTZD"
   },
   "source": [
    "Vocabulary"
   ]
  },
  {
   "cell_type": "code",
   "execution_count": 5,
   "metadata": {
    "id": "3GI4bb5YbTZD"
   },
   "outputs": [],
   "source": [
    "words = sentences.split()\n",
    "vocab = set(words)"
   ]
  },
  {
   "cell_type": "code",
   "execution_count": 6,
   "metadata": {},
   "outputs": [
    {
     "data": {
      "text/plain": [
       "{'ability',\n",
       " 'allowed',\n",
       " 'along',\n",
       " 'and',\n",
       " 'android',\n",
       " 'app',\n",
       " 'applications',\n",
       " 'apps',\n",
       " 'career',\n",
       " 'concepts',\n",
       " 'create',\n",
       " 'creative',\n",
       " 'deliver',\n",
       " 'development',\n",
       " 'diverse',\n",
       " 'exceptional',\n",
       " 'experiences',\n",
       " 'feature',\n",
       " 'flutter',\n",
       " 'friendly',\n",
       " 'functional',\n",
       " 'had',\n",
       " 'has',\n",
       " 'have',\n",
       " 'high',\n",
       " 'in',\n",
       " 'into',\n",
       " 'me',\n",
       " 'mobile',\n",
       " 'my',\n",
       " 'of',\n",
       " 'on',\n",
       " 'opportunity',\n",
       " 'performance',\n",
       " 'pride',\n",
       " 'proficiency',\n",
       " 'projects',\n",
       " 'range',\n",
       " 'rich',\n",
       " 'skills',\n",
       " 'take',\n",
       " 'that',\n",
       " 'the',\n",
       " 'throughout',\n",
       " 'to',\n",
       " 'transform',\n",
       " 'user',\n",
       " 'with',\n",
       " 'work'}"
      ]
     },
     "execution_count": 6,
     "metadata": {},
     "output_type": "execute_result"
    }
   ],
   "source": [
    "vocab"
   ]
  },
  {
   "cell_type": "code",
   "execution_count": 12,
   "metadata": {
    "id": "ogsVx1SLbTZE"
   },
   "outputs": [],
   "source": [
    "vocab_size = len(vocab)\n",
    "embed_dim = 10 # indicates the dimensionality of the word embeddings.\n",
    "context_size = 2  #Refers to the size of the window or context around each word during training\n",
    "#predicts the current word based on its surrounding context words within a specified window size\n",
    "#This parameter sets how many words before and after the target word are considered as context."
   ]
  },
  {
   "cell_type": "markdown",
   "metadata": {
    "id": "leJnMmNtbTZF"
   },
   "source": [
    "Implementation"
   ]
  },
  {
   "cell_type": "code",
   "execution_count": 13,
   "metadata": {
    "id": "VNOe97hFbTZF"
   },
   "outputs": [],
   "source": [
    "# dictionaries are used to map words to indices and indices back to words,\n",
    "#enumerate function generates pairs of indices and words from the vocab list\n",
    "#dictionary comprehension that iterates &assigning each word as a key and its index as the value.\n",
    "word_to_ix = {word: i for i, word in enumerate(vocab)}\n",
    "ix_to_word = {i: word for i, word in enumerate(vocab)}"
   ]
  },
  {
   "cell_type": "markdown",
   "metadata": {
    "id": "HY1LKbf1bTZF"
   },
   "source": [
    "Data bags"
   ]
  },
  {
   "cell_type": "code",
   "execution_count": 14,
   "metadata": {
    "colab": {
     "base_uri": "https://localhost:8080/"
    },
    "id": "wl0VBMgCbTZF",
    "outputId": "2d25efe0-78e0-4a7e-cdde-92d43e0f8d10"
   },
   "outputs": [
    {
     "name": "stdout",
     "output_type": "stream",
     "text": [
      "[(['throughout', 'my', 'have', 'had'], 'career'), (['my', 'career', 'had', 'the'], 'have'), (['career', 'have', 'the', 'opportunity'], 'had'), (['have', 'had', 'opportunity', 'to'], 'the'), (['had', 'the', 'to', 'work'], 'opportunity')]\n"
     ]
    }
   ],
   "source": [
    "# data - [(context), target]\n",
    "#This loop iterates over the words in the words list, excluding the first two and the last two words\n",
    "data = []\n",
    "for i in range(2, len(words) - 2):\n",
    "    context = [words[i - 2], words[i - 1], words[i + 1], words[i + 2]] #creates a context window consisting of two words before and two words after the target word.\n",
    "    target = words[i]#line extracts the target word itself.\n",
    "    data.append((context, target))\n",
    "print(data[:5])"
   ]
  },
  {
   "cell_type": "markdown",
   "metadata": {
    "id": "OiTZPe3GbTZG"
   },
   "source": [
    "Embeddings"
   ]
  },
  {
   "cell_type": "code",
   "execution_count": 15,
   "metadata": {
    "id": "51IcQMkQbTZG"
   },
   "outputs": [],
   "source": [
    "# refers to the process of representing words or phrases as numerical vectors in a continuous space\n",
    "embeddings =  np.random.random_sample((vocab_size, embed_dim))"
   ]
  },
  {
   "cell_type": "markdown",
   "metadata": {
    "id": "nrc3qPlebTZH"
   },
   "source": [
    "Linear Model"
   ]
  },
  {
   "cell_type": "code",
   "execution_count": null,
   "metadata": {
    "id": "Y_x_j_7mbTZH"
   },
   "outputs": [],
   "source": [
    "#linear regression type\n",
    "def linear(m, theta):#m-input data,theta-weights\n",
    "    w = theta\n",
    "    return m.dot(w) #dot product of inputand weights"
   ]
  },
  {
   "cell_type": "markdown",
   "metadata": {
    "id": "bHs2L3lobTZH"
   },
   "source": [
    "Log softmax + NLLloss = Cross Entropy"
   ]
  },
  {
   "cell_type": "code",
   "execution_count": null,
   "metadata": {
    "id": "Ega8iwJ-bTZH"
   },
   "outputs": [],
   "source": [
    "#for classification task used\n",
    "\n",
    "#: Normalizes the exponential values by dividing each element by the sum of all exponential values. This operation computes the softmax function, \n",
    "#the input array into a probability distribution.\n",
    "def log_softmax(x):\n",
    "    e_x = np.exp(x - np.max(x)) #step helps prevent potential numerical overflow by subtracting the maximum value before computing exponentials.\n",
    "    return np.log(e_x / e_x.sum()) "
   ]
  },
  {
   "cell_type": "code",
   "execution_count": null,
   "metadata": {
    "id": "M8JW6O5ZbTZH"
   },
   "outputs": [],
   "source": [
    "#negative log-likelihood loss  -measures how well the model's predicted probabilities align with the actual target classes. \n",
    "#logs- log scores for each class\n",
    "#targets-indices of the target classes.\n",
    "def NLLLoss(logs, targets):\n",
    "    out = logs[range(len(targets)), targets] # Extracts the log probabilities for the target classes using advanced indexing\n",
    "    return -out.sum()/len(out)#Calculates the negative log-likelihood loss."
   ]
  },
  {
   "cell_type": "code",
   "execution_count": null,
   "metadata": {
    "id": "7XoFf8pVbTZH"
   },
   "outputs": [],
   "source": [
    "#computes  gradient of the cross-entropy loss with respect to the logits\n",
    "#logits-outputs from a neural network before applying softmax function\n",
    "def log_softmax_crossentropy_with_logits(logits,target):\n",
    "\n",
    "    out = np.zeros_like(logits)# Initializes an array of zeros with the same shape as the logits.\n",
    "    out[np.arange(len(logits)),target] = 1 #set to 1 by apply one hot encoding\n",
    "\n",
    "    softmax = np.exp(logits) / np.exp(logits).sum(axis=-1,keepdims=True) #step computes the probabilities for each class.\n",
    "\n",
    "    return (- out + softmax) / logits.shape[0] #Computes the gradient of the cross-entropy loss with respect to the logits."
   ]
  },
  {
   "cell_type": "markdown",
   "metadata": {
    "id": "LiY27jXibTZH"
   },
   "source": [
    "Forward function"
   ]
  },
  {
   "cell_type": "code",
   "execution_count": null,
   "metadata": {
    "id": "ioUM6Ud6bTZH"
   },
   "outputs": [],
   "source": [
    "# performs the forward pass of a neural network or a model\n",
    "#context_idxs: Represents the indices of the context words \n",
    "#theta: Denotes the weights used in the linear transformation.\n",
    "\n",
    "def forward(context_idxs, theta):\n",
    "    m = embeddings[context_idxs].reshape(1, -1)# Retrieves the embeddings corresponding to the indices of context words from the embeddings matrixand reshpe to 1d array\n",
    "    n = linear(m, theta)#step computes the linear transformation of the input embeddings.\n",
    "    o = log_softmax(n)\n",
    "\n",
    "    return m, n, o\n",
    "#m: The extracted embeddings for the context words.\n",
    "#n: The result of the linear transformation.\n",
    "#o: The log-softmax probabilities."
   ]
  },
  {
   "cell_type": "markdown",
   "metadata": {
    "id": "iMhsJ4vbbTZI"
   },
   "source": [
    "Backward function"
   ]
  },
  {
   "cell_type": "code",
   "execution_count": null,
   "metadata": {
    "id": "mnC0kWTzbTZI"
   },
   "outputs": [],
   "source": [
    "#computes the gradient of the loss with respect to the weights (theta) using backpropagation\n",
    "#preds: Represents the predictions obtained from the forward pass\n",
    "def backward(preds, theta, target_idxs):\n",
    "    m, n, o = preds\n",
    "\n",
    "    dlog = log_softmax_crossentropy_with_logits(n, target_idxs)#: Computes the gradient of the log-softmax loss function with respect to the linear transformation output n.\n",
    "    dw = m.T.dot(dlog)\n",
    "\n",
    "    return dw # Returns the computed gradient of the weights.\n",
    "\n",
    "#This step calculates the gradient of the loss function."
   ]
  },
  {
   "cell_type": "markdown",
   "metadata": {
    "id": "dXB3Z9FObTZI"
   },
   "source": [
    "Optimize function"
   ]
  },
  {
   "cell_type": "code",
   "execution_count": null,
   "metadata": {
    "id": "pm-T7xXAbTZI"
   },
   "outputs": [],
   "source": [
    "# simple gradient descent update to optimize the weights\n",
    "#grad: Denotes the gradient of the weights\n",
    "#lr=0.03: Specifies the learning rate, which controls the size of the step taken during gradient descent. \n",
    "def optimize(theta, grad, lr=0.03):\n",
    "    theta -= grad * lr # adjusts the weights in the direction that minimizes the loss function\n",
    "    return theta"
   ]
  },
  {
   "cell_type": "markdown",
   "metadata": {
    "id": "7lKLbqDobTZI"
   },
   "source": [
    "Training"
   ]
  },
  {
   "cell_type": "code",
   "execution_count": null,
   "metadata": {
    "id": "fWKaXuTrbTZI"
   },
   "outputs": [],
   "source": [
    "# initializes the theta matrix with random values within the range of -1 to 1.\n",
    "#(2 * context_size * embed_dim, vocab_size): Defines the shape of the resulting matrix. \n",
    "#It creates a matrix with dimensions 2 * context_size * embed_dim (rows) by vocab_size (columns).\n",
    "theta = np.random.uniform(-1, 1, (2 * context_size * embed_dim, vocab_size))"
   ]
  },
  {
   "cell_type": "code",
   "execution_count": null,
   "metadata": {
    "id": "vKxQ6GKrbTZI"
   },
   "outputs": [],
   "source": [
    "epoch_losses = {}\n",
    "\n",
    "for epoch in range(80):\n",
    "\n",
    "    losses =  []\n",
    "\n",
    "    for context, target in data:\n",
    "        context_idxs = np.array([word_to_ix[w] for w in context])#Converts the context words into their corresponding indices using the word_to_ix dictionary\n",
    "        preds = forward(context_idxs, theta)#function to obtain predictions for the given context.\n",
    "\n",
    "        target_idxs = np.array([word_to_ix[target]])#Converts the target word into its index using the word_to_ix dictionary.\n",
    "        loss = NLLLoss(preds[-1], target_idxs)#Computes the negative log-likelihood loss for the predicted probabilities and the target index using the NLLLoss function.\n",
    "\n",
    "        losses.append(loss)\n",
    "\n",
    "        grad = backward(preds, theta, target_idxs)# Computes the gradient using backpropagation with the backward function\n",
    "        theta = optimize(theta, grad, lr=0.03)# Updates the weights (theta) using gradient descent with the optimize function\n",
    "\n",
    "\n",
    "    epoch_losses[epoch] = losses\n",
    "    #Stores the losses obtained during each epoch in a dictionary (epoch_losses) with the epoch number as the key.\n",
    "    \n"
   ]
  },
  {
   "cell_type": "markdown",
   "metadata": {
    "id": "-6NuRFFWbTZI"
   },
   "source": [
    "Analyze"
   ]
  },
  {
   "cell_type": "markdown",
   "metadata": {
    "id": "ARvr6NTkbTZI"
   },
   "source": [
    "Plot loss/epoch"
   ]
  },
  {
   "cell_type": "code",
   "execution_count": null,
   "metadata": {
    "colab": {
     "base_uri": "https://localhost:8080/",
     "height": 519
    },
    "id": "N6mePIotbTZJ",
    "outputId": "b46712d9-c6e5-4805-ee33-d6697c23f865"
   },
   "outputs": [
    {
     "data": {
      "text/plain": [
       "Text(0, 0.5, 'Losses')"
      ]
     },
     "execution_count": 43,
     "metadata": {},
     "output_type": "execute_result"
    },
    {
     "data": {
      "image/png": "[encoded data removed]",
      "text/plain": [
       "<Figure size 640x480 with 1 Axes>"
      ]
     },
     "metadata": {},
     "output_type": "display_data"
    }
   ],
   "source": [
    "ix = np.arange(0,80)\n",
    "\n",
    "fig = plt.figure()\n",
    "fig.suptitle('Epoch/Losses', fontsize=20)\n",
    "plt.plot(ix,[epoch_losses[i][0] for i in ix])\n",
    "plt.xlabel('Epochs', fontsize=12)\n",
    "plt.ylabel('Losses', fontsize=12)"
   ]
  },
  {
   "cell_type": "markdown",
   "metadata": {
    "id": "_VrjN6wcbTZJ"
   },
   "source": [
    "Predict function"
   ]
  },
  {
   "cell_type": "code",
   "execution_count": null,
   "metadata": {
    "id": "gWptIcRVbTZJ"
   },
   "outputs": [],
   "source": [
    "def predict(words):#words, which represents a sequence of words.\n",
    "    context_idxs = np.array([word_to_ix[w] for w in words])#Converts the input sequence of words into their corresponding indices using the word_to_ix dictionary.\n",
    "    preds = forward(context_idxs, theta)#obtain predictions for the next word in the sequence, given the context represented by the indices.\n",
    "    word = ix_to_word[np.argmax(preds[-1])]\n",
    "    #: Retrieves the word associated with the index having the highest probability among the predictions obtained from the model\n",
    "\n",
    "    return word"
   ]
  },
  {
   "cell_type": "code",
   "execution_count": null,
   "metadata": {
    "colab": {
     "base_uri": "https://localhost:8080/",
     "height": 36
    },
    "id": "JKOgMfv1bTZJ",
    "outputId": "e0ad4725-7a5b-4c7e-ccaf-a8e51e29400a"
   },
   "outputs": [
    {
     "data": {
      "application/vnd.google.colaboratory.intrinsic+json": {
       "type": "string"
      },
      "text/plain": [
       "'concepts'"
      ]
     },
     "execution_count": 49,
     "metadata": {},
     "output_type": "execute_result"
    }
   ],
   "source": [
    "\n",
    "predict(['transform','creative','into','functional' ])"
   ]
  },
  {
   "cell_type": "markdown",
   "metadata": {
    "id": "Xfk9xeBpbTZJ"
   },
   "source": [
    "Accuracy"
   ]
  },
  {
   "cell_type": "code",
   "execution_count": null,
   "metadata": {
    "id": "udAwWDKEbTZJ"
   },
   "outputs": [],
   "source": [
    "def accuracy():\n",
    "    wrong = 0\n",
    "\n",
    "    for context, target in data:# Iterates through the dataset.\n",
    "        if(predict(context) != target):#.Compares the predicted word with the actual target word.\n",
    "            wrong += 1 #If the predicted word does not match the target word, increments the wrong counter by 1.\n",
    "\n",
    "    return (1 - (wrong / len(data)))#Computes the accuracy by subtracting the ratio of incorrect predictions (wrong) to the total number of data points (len(data)) from 1\n",
    " \n",
    "\n"
   ]
  },
  {
   "cell_type": "code",
   "execution_count": null,
   "metadata": {
    "colab": {
     "base_uri": "https://localhost:8080/"
    },
    "id": "-IUwOB4BbTZJ",
    "outputId": "ce200554-dfa5-44bd-e5b5-cc53611411a7"
   },
   "outputs": [
    {
     "data": {
      "text/plain": [
       "1.0"
      ]
     },
     "execution_count": 51,
     "metadata": {},
     "output_type": "execute_result"
    }
   ],
   "source": [
    "accuracy()"
   ]
  },
  {
   "cell_type": "code",
   "execution_count": null,
   "metadata": {
    "id": "iJiUIyLicCA1"
   },
   "outputs": [],
   "source": []
  }
 ],
 "metadata": {
  "colab": {
   "provenance": []
  },
  "kernelspec": {
   "display_name": "Python 3 (ipykernel)",
   "language": "python",
   "name": "python3"
  },
  "language_info": {
   "codemirror_mode": {
    "name": "ipython",
    "version": 3
   },
   "file_extension": ".py",
   "mimetype": "text/x-python",
   "name": "python",
   "nbconvert_exporter": "python",
   "pygments_lexer": "ipython3",
   "version": "3.11.5"
  }
 },
 "nbformat": 4,
 "nbformat_minor": 4
}
